{
 "cells": [
  {
   "cell_type": "markdown",
   "metadata": {},
   "source": [
    "# ADALINE Assignment\n",
    "寻找$w^T$权向量使$y=W^T x>7$,$x\\in R_1$,\n",
    "\n",
    "$y=W^T x\\leq-3$,$x\\in R_2$\n",
    "\n",
    "$R_1:x\\leq1,y\\leq1$,$R_2:x\\geq3,y\\geq2$\n",
    "\n",
    "## 谢昊君 12000155556 元培学院"
   ]
  },
  {
   "cell_type": "markdown",
   "metadata": {},
   "source": [
    "# Algorithm及解决思路：\n",
    "在两个区域随机生成点，然后作为训练集训练，并且每个区域对应不同的损失函数。\n",
    "\n",
    "error 的设定：\n",
    "\n",
    "对$R_1$中点,若 $W^T x>7$,$error = 0$\n",
    "\n",
    "若 $W^T x<7$,$error = (W^T x-7)^2$\n",
    "\n",
    "对 $R_2$中点 ,若 $W^T x\\leq-3$,$error = 0$\n",
    "\n",
    "\n",
    "若 $W^T x\\geq-3$,$error = (W^T x +3)^2$\n",
    "\n",
    "最终通过更新$w$实现对以下问题的最优化，\n",
    "\n",
    "$$\\min_w\\sum(y_{expected} - y_{predicted})^2$$\n",
    "更新标准:\n",
    "\n",
    "对error求导，若error = 0，则不更新。\n",
    "\n",
    "更新标准仍按：\n",
    "\n",
    "$$w = w + learningrate*(expected - predicted)*feature$$"
   ]
  },
  {
   "cell_type": "markdown",
   "metadata": {},
   "source": [
    "# 具体实践\n",
    "\n",
    "使用numpy.random包生成符合要求的随机数据。其中的rand函数生成0到1范围内的随机数，将其乘以100后置于$R_1$，$R_2$中作为训练集。\n",
    "\n",
    "$R_1$，$R_2$作为一个feature存在于损失函数中，使两区域内的点对应不同的损失函数。\n",
    "\n",
    "对损失函数做最优化，按更新标准使损失函数最小。\n",
    "\n",
    "结果：\n",
    "训练通常在一两次更新后使得所有样本点正确分类。\n",
    "但因为样本选取的问题，可能并不完美。"
   ]
  },
  {
   "cell_type": "code",
   "execution_count": 1,
   "metadata": {
    "collapsed": false
   },
   "outputs": [],
   "source": [
    "import numpy as np\n",
    "import numpy.random as rd"
   ]
  },
  {
   "cell_type": "code",
   "execution_count": 2,
   "metadata": {
    "collapsed": false
   },
   "outputs": [],
   "source": [
    "rd.RandomState()\n",
    "rd.seed(100)"
   ]
  },
  {
   "cell_type": "code",
   "execution_count": 3,
   "metadata": {
    "collapsed": false
   },
   "outputs": [],
   "source": [
    "# Generate the Data from R1 and R2\n",
    "#R_1\n",
    "R1 = rd.rand(100,3)*(-100) + 1\n",
    "R1[:,2]=7\n",
    "#R_2\n",
    "R2 = rd.rand(100,3)*(100)\n",
    "R2[:,0]+=3\n",
    "R2[:,1]+=2\n",
    "R2[:,2]= -3"
   ]
  },
  {
   "cell_type": "code",
   "execution_count": 4,
   "metadata": {
    "collapsed": false
   },
   "outputs": [],
   "source": [
    "# training set的第三列为常数1，对应常数项。\n",
    "training_set = np.c_[np.ones(200),np.r_[R1,R2]]"
   ]
  },
  {
   "cell_type": "code",
   "execution_count": 5,
   "metadata": {
    "collapsed": true
   },
   "outputs": [],
   "source": [
    "feature = training_set[:,0:3]\n",
    "output = training_set[:,3]"
   ]
  },
  {
   "cell_type": "code",
   "execution_count": 6,
   "metadata": {
    "collapsed": false
   },
   "outputs": [
    {
     "data": {
      "text/plain": [
       "array([  1.        ,   3.99336937,  80.97656793])"
      ]
     },
     "execution_count": 6,
     "metadata": {},
     "output_type": "execute_result"
    }
   ],
   "source": [
    "feature[100]"
   ]
  },
  {
   "cell_type": "code",
   "execution_count": 14,
   "metadata": {
    "collapsed": false
   },
   "outputs": [],
   "source": [
    "# 定义一个对R1 R2中点分类的函数，其实相当于把R1和R2作为一共feature加入到训练数据中。\n",
    "def type2(w):\n",
    "    if ((w[1]<=1)&(w[2]<=1)):\n",
    "        return \"R1\"\n",
    "    elif ((w[1]>=3)&(w[2]>=2)):\n",
    "        return \"R2\"\n",
    "\n",
    "def errors(w,feature,output):\n",
    "    types =np.array([type2(i) for i in feature])\n",
    "    tmp = feature.dot(w)-output\n",
    "    # 对R1，tmp>0,则error为0\n",
    "    # 对R2，tmp<0,则error为0\n",
    "    tmp[(types==\"R1\")&(tmp>0)]=0\n",
    "    tmp[(types==\"R2\")&(tmp<0)]=0\n",
    "    # 此时只输出了绝对误差项，没有计算平方误差，但根据更新标准，是针对平方误差最优化的。\n",
    "    misclassified = (tmp!=0)\n",
    "    return (tmp,misclassified)"
   ]
  },
  {
   "cell_type": "code",
   "execution_count": 71,
   "metadata": {
    "collapsed": false
   },
   "outputs": [
    {
     "name": "stdout",
     "output_type": "stream",
     "text": [
      "[  0.7        -37.33834593 -18.78585696]\n"
     ]
    }
   ],
   "source": [
    "# Adaline \n",
    "# set initial weight and theta\n",
    "w = np.array([0,0,0])\n",
    "learning_rate = 0.1\n",
    "maxiterations = 1000\n",
    "i = 1\n",
    "for i in range(1,maxiterations):\n",
    "    tmp2=errors(w,feature,output)\n",
    "    error = tmp2[0]\n",
    "    misclassified = tmp2[1]\n",
    "    if (error==0).all()==True:\n",
    "        break\n",
    "    else:    \n",
    "    # 选取误分类的第一个点为标准更新:\n",
    "        w = w + (-1) * learning_rate * (error[misclassified==True][0])*((feature[misclassified==True][0]))\n",
    "        print(w)"
   ]
  },
  {
   "cell_type": "code",
   "execution_count": 83,
   "metadata": {
    "collapsed": true
   },
   "outputs": [],
   "source": [
    "# A class version\n",
    "class Adaline():\n",
    "    def __init__(self):\n",
    "        self.feature = []\n",
    "        self.output = []\n",
    "        self.maxiterations = []\n",
    "        self.learning_rate = []\n",
    "        self.w = []\n",
    "        \n",
    "    def set_training_data(self,feature,output,maxiterations=1000,learning_rate=0.1):\n",
    "        self.feature = feature\n",
    "        self.output = output\n",
    "        self.maxiterations = maxiterations\n",
    "        self.learning_rate = learning_rate\n",
    "        \n",
    "    def errors(w,feature,output):\n",
    "        types =np.array([type2(i) for i in feature])\n",
    "        tmp = feature.dot(w)-output\n",
    "        # 对R1，tmp>0,则error为0\n",
    "        # 对R2，tmp<0,则error为0\n",
    "        tmp[(types==\"R1\")&(tmp>0)]=0\n",
    "        tmp[(types==\"R2\")&(tmp<0)]=0\n",
    "        # 此时只输出了绝对误差项，没有计算平方误差，但根据更新标准，是针对平方误差最优化的。\n",
    "        misclassified = (tmp!=0)\n",
    "        return (tmp,misclassified)\n",
    "    \n",
    "    def train(self):\n",
    "        w = rd.rand(3)\n",
    "        for i in range(1,self.maxiterations):\n",
    "            tmp2=errors(w,self.feature,self.output)\n",
    "            error = tmp2[0]\n",
    "            misclassified = tmp2[1]\n",
    "            if (error==0).all()==True:\n",
    "                break\n",
    "            else:    \n",
    "    # 选取误分类的第一个点为标准更新:\n",
    "                w = w + (-1) * learning_rate * (error[misclassified==True][0])*((self.feature[misclassified==True][0]))\n",
    "        self.w = w\n",
    "        print(self.w)"
   ]
  },
  {
   "cell_type": "code",
   "execution_count": 89,
   "metadata": {
    "collapsed": false
   },
   "outputs": [
    {
     "name": "stdout",
     "output_type": "stream",
     "text": [
      "[   5.39984175 -250.7640335  -125.52177341]\n",
      "[   8.2956452  -428.92589163 -215.34823659]\n",
      "[   4.80351074 -222.12993448 -111.71699394]\n",
      "[   5.70873021 -279.72947188 -140.81000513]\n",
      "[   4.11476952 -208.02745244 -104.24984431]\n",
      "[   5.104873   -247.12245239 -124.09913331]\n",
      "[   5.54482179 -253.80903103 -127.125432  ]\n",
      "[   3.94525676 -164.33735203  -82.14408782]\n",
      "[   6.66097792 -326.93456363 -164.90386591]\n",
      "[   5.46746028 -253.41372142 -126.64127928]\n",
      "[   4.13073045 -201.32521597 -100.35309754]\n",
      "[   5.11630809 -246.8611776  -123.91808586]\n",
      "[   4.24706625 -175.74585797  -88.63889762]\n",
      "[   7.48815259 -348.77602938 -175.12351911]\n",
      "[   6.77824558 -355.17361774 -178.37405702]\n",
      "[   6.15678128 -278.68804403 -139.75895115]\n",
      "[   5.08841917 -224.52598316 -112.69419333]\n",
      "[   3.43308377 -176.41246436  -88.25339031]\n",
      "[   3.2926843  -159.55111618  -79.86304732]\n"
     ]
    }
   ],
   "source": [
    "# Class Version Test\n",
    "TMP = Adaline()\n",
    "TMP.set_training_data(feature,output)\n",
    "for i in range(1,20):\n",
    "    TMP.train()"
   ]
  },
  {
   "cell_type": "code",
   "execution_count": 86,
   "metadata": {
    "collapsed": false
   },
   "outputs": [
    {
     "data": {
      "text/plain": [
       "array([ 2489.50071148,  3100.69491866,  3993.47710504,  3759.30383807,\n",
       "         833.15599041,  5116.41149082,  3500.09501994,  4983.51608267,\n",
       "        1292.92636624,  2374.81425467,  3307.85648342,  1432.21284239,\n",
       "        3712.77818833,  3486.44229532,  2148.47496355,  3416.18779604,\n",
       "        2606.36023488,  3916.83792677,  1901.4003976 ,   909.36429783,\n",
       "        2456.07597308,  2224.3226913 ,  2914.9040802 ,  1220.49414611,\n",
       "        2401.6585049 ,  3544.12175901,  1152.01694179,  1259.83086847,\n",
       "        2043.02129934,  3342.31230689,  2512.9095893 ,  1963.39741327,\n",
       "        2091.29496662,  3855.12103214,  2796.92380306,  4321.97259256,\n",
       "        3896.81496141,  2272.63727881,  1402.61189431,  1817.82684184,\n",
       "        3151.02267265,   684.27783068,  2107.44403365,  1769.67743596,\n",
       "        3510.22960544,  2088.7584949 ,  5509.5938112 ,  3402.99377814,\n",
       "        3912.78827683,  2457.56342988,  1417.4532912 ,  3527.85711429,\n",
       "        2923.43236165,  1528.5112237 ,  3463.02777383,  3518.25843066,\n",
       "        3719.11471172,  1290.99136958,  5101.72055982,  1006.02468584,\n",
       "        4193.09703964,  1436.66851648,  2949.6425556 ,  1031.64868082,\n",
       "        5319.07888586,  3675.07035568,  1305.86180121,  3332.90958482,\n",
       "        3231.75663826,  3662.25695112,  5016.32570408,  2973.81767941,\n",
       "        4315.47460507,  1624.43406731,  1438.83595303,  4788.57042374,\n",
       "        3566.0480329 ,  3333.77345142,  2603.49993595,   326.49055587,\n",
       "        1748.76036782,  3490.50319371,  4208.07193812,  3704.51989947,\n",
       "        4877.98465155,  2536.27503887,  3436.56805702,  3025.78527904,\n",
       "        4001.29278206,  2402.17682941,  5008.72287981,  4693.89603199,\n",
       "        1908.71868642,  4334.67640477,  2866.1034523 ,  4660.13149147,\n",
       "        3744.56421135,  1627.65475781,  4541.0023125 ,  2362.30994512,\n",
       "       -1666.62002887, -3617.36241649, -1454.25966962,  -285.27929172,\n",
       "       -4075.70085719, -3096.61195078, -1519.99585356, -1768.00594939,\n",
       "       -2257.02056814, -3611.13154947, -3348.68596807, -1075.41325626,\n",
       "       -3667.20833382, -2805.07045405, -3331.15269787, -3904.76376189,\n",
       "       -3124.22980116, -1100.75048828, -1018.26802337, -2679.16182686,\n",
       "       -2124.4404705 , -4990.30535364, -2880.22702543, -2077.22638104,\n",
       "       -3254.34775824, -2910.73162454,  -757.06112824, -1646.43581644,\n",
       "       -2830.03134382, -2800.77461649, -1574.84794507, -2108.10202477,\n",
       "       -2383.37938644, -2133.22232375, -3680.93357871, -3115.67613862,\n",
       "       -4059.54138754, -3186.76227096, -4920.638598  , -1709.51605894,\n",
       "       -4313.22398897, -4580.40718812, -2715.05612235, -4247.68183406,\n",
       "       -3165.49728437, -3392.2031109 , -2853.26217252, -2898.75542412,\n",
       "       -2932.19956076, -3426.81792112, -2269.64559816, -1699.71104338,\n",
       "       -4050.59568324, -1113.66997279, -4732.49202145, -2304.04033322,\n",
       "       -2241.08154684, -1196.51771374, -3185.93768121,  -424.05776306,\n",
       "       -4396.63797091,  -675.61836935, -5193.7431255 , -4774.61794657,\n",
       "       -3777.24166076, -2665.39844784, -2591.74611368, -1815.57663268,\n",
       "       -1643.39596644, -3696.61818082, -2662.74829028, -2004.33445376,\n",
       "       -3880.27387377,  -990.40479704, -5018.68391897, -1788.15181177,\n",
       "       -2994.37046046, -1681.27669598, -2556.48949878, -1635.98862416,\n",
       "       -1332.03018436, -1158.49098213, -4490.19229286, -3273.9974874 ,\n",
       "       -3738.68501756, -2910.41955399, -1088.85820723, -1732.14534263,\n",
       "        -958.84378052,  -926.81550467,  -484.94413285, -2054.91449472,\n",
       "       -3753.3318654 , -1844.69610736, -2616.75909122, -3010.5988595 ,\n",
       "       -2298.05958595, -1471.5860232 , -4554.3252097 , -4499.46671888])"
      ]
     },
     "execution_count": 86,
     "metadata": {},
     "output_type": "execute_result"
    }
   ],
   "source": [
    "feature.dot(w)-output"
   ]
  },
  {
   "cell_type": "code",
   "execution_count": 82,
   "metadata": {
    "collapsed": false
   },
   "outputs": [
    {
     "data": {
      "text/plain": [
       "(3,)"
      ]
     },
     "execution_count": 82,
     "metadata": {},
     "output_type": "execute_result"
    }
   ],
   "source": [
    "w.shape"
   ]
  },
  {
   "cell_type": "code",
   "execution_count": null,
   "metadata": {
    "collapsed": true
   },
   "outputs": [],
   "source": []
  }
 ],
 "metadata": {
  "kernelspec": {
   "display_name": "Python 3",
   "language": "python",
   "name": "python3"
  },
  "language_info": {
   "codemirror_mode": {
    "name": "ipython",
    "version": 3
   },
   "file_extension": ".py",
   "mimetype": "text/x-python",
   "name": "python",
   "nbconvert_exporter": "python",
   "pygments_lexer": "ipython3",
   "version": "3.5.2"
  }
 },
 "nbformat": 4,
 "nbformat_minor": 0
}
